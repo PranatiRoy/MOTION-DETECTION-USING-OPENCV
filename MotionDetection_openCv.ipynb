{
 "cells": [
  {
   "cell_type": "markdown",
   "metadata": {},
   "source": [
    "I am running this notebook on jupyter notebook to access the web cam of my device."
   ]
  },
  {
   "cell_type": "markdown",
   "metadata": {},
   "source": [
    "# Importing libraries and giving access to webcam"
   ]
  },
  {
   "cell_type": "code",
   "execution_count": 34,
   "metadata": {},
   "outputs": [],
   "source": [
    "import cv2\n",
    "video = cv2.VideoCapture(0)"
   ]
  },
  {
   "cell_type": "code",
   "execution_count": 35,
   "metadata": {},
   "outputs": [],
   "source": [
    "first_frame = None"
   ]
  },
  {
   "cell_type": "markdown",
   "metadata": {},
   "source": [
    "# Motion Detection"
   ]
  },
  {
   "cell_type": "code",
   "execution_count": 36,
   "metadata": {},
   "outputs": [],
   "source": [
    "while True:\n",
    "    check,frame = video.read() #reading the images from the webcam\n",
    "    gray1 = cv2.cvtColor(frame, cv2.COLOR_BGR2GRAY) # converting the image format BGR into gray as it reduces the number of inputs\n",
    "    gray=cv2.GaussianBlur(gray1,(21,21),0) #to smoothen the frame image\n",
    "\n",
    "    if first_frame is None:\n",
    "        first_frame=gray    #set the first gray frame as background\n",
    "        continue\n",
    "\n",
    "    delta_frame=cv2.absdiff(first_frame,gray) # finding difference of the present frame and the first frame\n",
    "    thresh_frame=cv2.threshold(delta_frame, 30, 255, cv2.THRESH_BINARY)[1] #Selcting a value above which we consider the difference\n",
    "    #here onwards the white patches are our object and black patches are our background.\n",
    "    thresh_frame=cv2.dilate(thresh_frame, None, iterations=2)  # to make the object more prominent \n",
    "\n",
    "    (cnts,_)=cv2.findContours(thresh_frame.copy(),cv2.RETR_EXTERNAL, cv2.CHAIN_APPROX_SIMPLE) #finding the contour on differnce of present frame and the background or first frame\n",
    "    for contour in cnts:\n",
    "        if cv2.contourArea(contour) < 10000:\n",
    "            continue\n",
    "        (x, y, w, h)=cv2.boundingRect(contour) # returning a rectangle on a motion detection for the objects whose area is bigger than 10,000 pixels square.\n",
    "        cv2.rectangle(frame,(x, y),(x+w, y+h),(128,128,255), 2) #draw the rectangle\n",
    "    \n",
    "    cv2.imshow(\"Video input\", frame) #displaying original frame \n",
    "    cv2.imshow(\"Difference\", delta_frame) #displaying the difference frame\n",
    "    cv2.imshow(\"Thresholding\", thresh_frame) #diplaying the threshold applied frame\n",
    "    key = cv2.waitKey(1)   #waiting period of one frame is 1msec.\n",
    "\n",
    "    if key ==27:  # to break the loop with 'Esc'\n",
    "        break\n",
    "\n",
    "video.release()  # releasing the access to the webcam.\n",
    "cv2.destroyAllWindows() # destroying the created windows. "
   ]
  },
  {
   "cell_type": "code",
   "execution_count": null,
   "metadata": {},
   "outputs": [],
   "source": []
  },
  {
   "cell_type": "code",
   "execution_count": 4,
   "metadata": {},
   "outputs": [],
   "source": []
  },
  {
   "cell_type": "code",
   "execution_count": null,
   "metadata": {},
   "outputs": [],
   "source": []
  }
 ],
 "metadata": {
  "kernelspec": {
   "display_name": "Python 3",
   "language": "python",
   "name": "python3"
  },
  "language_info": {
   "codemirror_mode": {
    "name": "ipython",
    "version": 3
   },
   "file_extension": ".py",
   "mimetype": "text/x-python",
   "name": "python",
   "nbconvert_exporter": "python",
   "pygments_lexer": "ipython3",
   "version": "3.8.5"
  }
 },
 "nbformat": 4,
 "nbformat_minor": 4
}
